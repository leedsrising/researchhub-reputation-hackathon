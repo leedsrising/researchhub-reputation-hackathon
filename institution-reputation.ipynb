{
 "cells": [
  {
   "cell_type": "code",
   "execution_count": 3,
   "metadata": {},
   "outputs": [
    {
     "name": "stdout",
     "output_type": "stream",
     "text": [
      "https://api.openalex.org/authors?search=carl sagan\n"
     ]
    }
   ],
   "source": [
    "'https://api.openalex.org/authors?search=carl%20sagan'\n",
    "\n",
    "# specify endpoint for authors\n",
    "endpoint = 'authors'\n",
    "\n",
    "# build the 'filter' parameter\n",
    "search = \"carl sagan\"\n",
    "\n",
    "# put the URL together\n",
    "search_params = f'https://api.openalex.org/{endpoint}?search={search}'\n",
    "print(f'{search_params}')"
   ]
  },
  {
   "cell_type": "code",
   "execution_count": 15,
   "metadata": {},
   "outputs": [
    {
     "data": {
      "text/plain": [
       "'A3184395717'"
      ]
     },
     "execution_count": 15,
     "metadata": {},
     "output_type": "execute_result"
    }
   ],
   "source": [
    "import requests, json\n",
    "response = requests.get(search_params).json()\n",
    "\n",
    "openalex_https_string = (json.dumps(response[\"results\"][0][\"id\"]))\n",
    "institution_ror_id = (openalex_https_string).rsplit('/', 1)[-1]\n",
    "sanitized_institution_ror_id = institution_ror_id.replace('\"','')\n",
    "sanitized_institution_ror_id"
   ]
  },
  {
   "cell_type": "code",
   "execution_count": 16,
   "metadata": {},
   "outputs": [
    {
     "name": "stdout",
     "output_type": "stream",
     "text": [
      "Error: 404\n"
     ]
    }
   ],
   "source": [
    "ror_id = sanitized_institution_ror_id\n",
    "url = f\"https://api.natureindex.com/institutions/ror:{ror_id}\"\n",
    "\n",
    "response = requests.get(url)\n",
    "\n",
    "if response.status_code == 200:\n",
    "    data = response.json()\n",
    "    nature_index_score = data[\"natureIndexScore\"]\n",
    "    print(\"Nature Index Score:\", nature_index_score)\n",
    "else:\n",
    "    print(\"Error:\", response.status_code)\n"
   ]
  },
  {
   "cell_type": "code",
   "execution_count": null,
   "metadata": {},
   "outputs": [],
   "source": []
  }
 ],
 "metadata": {
  "kernelspec": {
   "display_name": "Python 3.8.12 64-bit ('pypy3.8-7.3.6')",
   "language": "python",
   "name": "python3"
  },
  "language_info": {
   "codemirror_mode": {
    "name": "ipython",
    "version": 3
   },
   "file_extension": ".py",
   "mimetype": "text/x-python",
   "name": "python",
   "nbconvert_exporter": "python",
   "pygments_lexer": "ipython3",
   "version": "3.8.12"
  },
  "orig_nbformat": 4,
  "vscode": {
   "interpreter": {
    "hash": "2a458952299d33113bf65a81064afd2c3d653802a3f46a5299ab033c34388705"
   }
  }
 },
 "nbformat": 4,
 "nbformat_minor": 2
}
